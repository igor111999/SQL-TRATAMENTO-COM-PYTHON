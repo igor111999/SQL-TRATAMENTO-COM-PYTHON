{
 "cells": [
  {
   "cell_type": "markdown",
   "metadata": {},
   "source": [
    "# Desafio Python e SQL\n",
    "\n",
    "### Create"
   ]
  },
  {
   "cell_type": "code",
   "execution_count": 1,
   "metadata": {},
   "outputs": [],
   "source": [
    "import pyodbc as pyo"
   ]
  },
  {
   "cell_type": "code",
   "execution_count": 3,
   "metadata": {},
   "outputs": [
    {
     "name": "stdout",
     "output_type": "stream",
     "text": [
      "conexão bem sucedida\n"
     ]
    }
   ],
   "source": [
    "dados_conexao = ('Driver={SQLite3 ODBC Driver};'\n",
    "                 'Sever=localhost;'\n",
    "                 'Database=chinook.db')\n",
    "\n",
    "#conectando ao banco de dados\n",
    "\n",
    "conexao =  pyo.connect(dados_conexao)\n",
    "print('conexão bem sucedida')"
   ]
  },
  {
   "cell_type": "code",
   "execution_count": 7,
   "metadata": {},
   "outputs": [
    {
     "ename": "Error",
     "evalue": "('HY000', '[HY000] only one SQL statement allowed (-1) (SQLExecDirectW)')",
     "output_type": "error",
     "traceback": [
      "\u001b[1;31m---------------------------------------------------------------------------\u001b[0m",
      "\u001b[1;31mError\u001b[0m                                     Traceback (most recent call last)",
      "Input \u001b[1;32mIn [7]\u001b[0m, in \u001b[0;36m<cell line: 2>\u001b[1;34m()\u001b[0m\n\u001b[0;32m      1\u001b[0m cursor \u001b[38;5;241m=\u001b[39m conexao\u001b[38;5;241m.\u001b[39mcursor()\n\u001b[1;32m----> 2\u001b[0m \u001b[43mcursor\u001b[49m\u001b[38;5;241;43m.\u001b[39;49m\u001b[43mexecute\u001b[49m\u001b[43m(\u001b[49m\u001b[38;5;124;43m'''\u001b[39;49m\n\u001b[0;32m      3\u001b[0m \u001b[38;5;124;43mINSERT INTO albums(Title; ArtistID)\u001b[39;49m\n\u001b[0;32m      4\u001b[0m \u001b[38;5;124;43mVALUES \u001b[39;49m\n\u001b[0;32m      5\u001b[0m \u001b[38;5;124;43m(IGOROCK; 4)\u001b[39;49m\n\u001b[0;32m      6\u001b[0m \u001b[38;5;124;43m'''\u001b[39;49m\u001b[43m)\u001b[49m\n\u001b[0;32m      8\u001b[0m cursor\u001b[38;5;241m.\u001b[39mcommit()\n\u001b[0;32m     13\u001b[0m cursor\u001b[38;5;241m.\u001b[39mclose()\n",
      "\u001b[1;31mError\u001b[0m: ('HY000', '[HY000] only one SQL statement allowed (-1) (SQLExecDirectW)')"
     ]
    }
   ],
   "source": [
    "cursor = conexao.cursor()\n",
    "cursor.execute('''\n",
    "INSERT INTO albums(Title; ArtistID)\n",
    "VALUES \n",
    "(IGOROCK; 4)\n",
    "''')\n",
    "\n",
    "cursor.commit()\n",
    "\n",
    "\n",
    "\n",
    "\n",
    "cursor.close()"
   ]
  },
  {
   "cell_type": "code",
   "execution_count": null,
   "metadata": {},
   "outputs": [],
   "source": []
  }
 ],
 "metadata": {
  "kernelspec": {
   "display_name": "Python 3 (ipykernel)",
   "language": "python",
   "name": "python3"
  },
  "language_info": {
   "codemirror_mode": {
    "name": "ipython",
    "version": 3
   },
   "file_extension": ".py",
   "mimetype": "text/x-python",
   "name": "python",
   "nbconvert_exporter": "python",
   "pygments_lexer": "ipython3",
   "version": "3.9.12"
  }
 },
 "nbformat": 4,
 "nbformat_minor": 4
}
